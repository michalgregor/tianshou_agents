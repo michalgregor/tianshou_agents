{
  "cells": [
    {
      "cell_type": "code",
      "execution_count": 4,
      "metadata": {
        "colab": {
          "base_uri": "https://localhost:8080/"
        },
        "id": "kpcr9YSuUoDq",
        "outputId": "8f29c221-36c5-4848-c8eb-910c76db70e5"
      },
      "outputs": [
        {
          "name": "stdout",
          "output_type": "stream",
          "text": [
            "Requirement already satisfied: gym[classic_control] in /usr/local/lib/python3.7/dist-packages (0.17.3)\n",
            "Requirement already satisfied: scipy in /usr/local/lib/python3.7/dist-packages (from gym[classic_control]) (1.4.1)\n",
            "Requirement already satisfied: pyglet<=1.5.0,>=1.4.0 in /usr/local/lib/python3.7/dist-packages (from gym[classic_control]) (1.5.0)\n",
            "Requirement already satisfied: cloudpickle<1.7.0,>=1.2.0 in /usr/local/lib/python3.7/dist-packages (from gym[classic_control]) (1.3.0)\n",
            "Requirement already satisfied: numpy>=1.10.4 in /usr/local/lib/python3.7/dist-packages (from gym[classic_control]) (1.21.6)\n",
            "Requirement already satisfied: future in /usr/local/lib/python3.7/dist-packages (from pyglet<=1.5.0,>=1.4.0->gym[classic_control]) (0.16.0)\n",
            "Collecting tianshou\n",
            "  Downloading tianshou-0.4.7-py3-none-any.whl (144 kB)\n",
            "\u001b[K     |████████████████████████████████| 144 kB 5.0 MB/s \n",
            "\u001b[?25hRequirement already satisfied: gym>=0.15.4 in /usr/local/lib/python3.7/dist-packages (from tianshou) (0.17.3)\n",
            "Requirement already satisfied: tensorboard>=2.5.0 in /usr/local/lib/python3.7/dist-packages (from tianshou) (2.8.0)\n",
            "Requirement already satisfied: h5py>=2.10.0 in /usr/local/lib/python3.7/dist-packages (from tianshou) (3.1.0)\n",
            "Requirement already satisfied: numpy>1.16.0 in /usr/local/lib/python3.7/dist-packages (from tianshou) (1.21.6)\n",
            "Requirement already satisfied: numba>=0.51.0 in /usr/local/lib/python3.7/dist-packages (from tianshou) (0.51.2)\n",
            "Requirement already satisfied: torch>=1.4.0 in /usr/local/lib/python3.7/dist-packages (from tianshou) (1.11.0+cu113)\n",
            "Requirement already satisfied: tqdm in /usr/local/lib/python3.7/dist-packages (from tianshou) (4.64.0)\n",
            "Requirement already satisfied: pyglet<=1.5.0,>=1.4.0 in /usr/local/lib/python3.7/dist-packages (from gym>=0.15.4->tianshou) (1.5.0)\n",
            "Requirement already satisfied: cloudpickle<1.7.0,>=1.2.0 in /usr/local/lib/python3.7/dist-packages (from gym>=0.15.4->tianshou) (1.3.0)\n",
            "Requirement already satisfied: scipy in /usr/local/lib/python3.7/dist-packages (from gym>=0.15.4->tianshou) (1.4.1)\n",
            "Requirement already satisfied: cached-property in /usr/local/lib/python3.7/dist-packages (from h5py>=2.10.0->tianshou) (1.5.2)\n",
            "Requirement already satisfied: llvmlite<0.35,>=0.34.0.dev0 in /usr/local/lib/python3.7/dist-packages (from numba>=0.51.0->tianshou) (0.34.0)\n",
            "Requirement already satisfied: setuptools in /usr/local/lib/python3.7/dist-packages (from numba>=0.51.0->tianshou) (57.4.0)\n",
            "Requirement already satisfied: future in /usr/local/lib/python3.7/dist-packages (from pyglet<=1.5.0,>=1.4.0->gym>=0.15.4->tianshou) (0.16.0)\n",
            "Requirement already satisfied: google-auth-oauthlib<0.5,>=0.4.1 in /usr/local/lib/python3.7/dist-packages (from tensorboard>=2.5.0->tianshou) (0.4.6)\n",
            "Requirement already satisfied: tensorboard-plugin-wit>=1.6.0 in /usr/local/lib/python3.7/dist-packages (from tensorboard>=2.5.0->tianshou) (1.8.1)\n",
            "Requirement already satisfied: werkzeug>=0.11.15 in /usr/local/lib/python3.7/dist-packages (from tensorboard>=2.5.0->tianshou) (1.0.1)\n",
            "Requirement already satisfied: protobuf>=3.6.0 in /usr/local/lib/python3.7/dist-packages (from tensorboard>=2.5.0->tianshou) (3.17.3)\n",
            "Requirement already satisfied: google-auth<3,>=1.6.3 in /usr/local/lib/python3.7/dist-packages (from tensorboard>=2.5.0->tianshou) (1.35.0)\n",
            "Requirement already satisfied: wheel>=0.26 in /usr/local/lib/python3.7/dist-packages (from tensorboard>=2.5.0->tianshou) (0.37.1)\n",
            "Requirement already satisfied: markdown>=2.6.8 in /usr/local/lib/python3.7/dist-packages (from tensorboard>=2.5.0->tianshou) (3.3.6)\n",
            "Requirement already satisfied: tensorboard-data-server<0.7.0,>=0.6.0 in /usr/local/lib/python3.7/dist-packages (from tensorboard>=2.5.0->tianshou) (0.6.1)\n",
            "Requirement already satisfied: grpcio>=1.24.3 in /usr/local/lib/python3.7/dist-packages (from tensorboard>=2.5.0->tianshou) (1.44.0)\n",
            "Requirement already satisfied: requests<3,>=2.21.0 in /usr/local/lib/python3.7/dist-packages (from tensorboard>=2.5.0->tianshou) (2.23.0)\n",
            "Requirement already satisfied: absl-py>=0.4 in /usr/local/lib/python3.7/dist-packages (from tensorboard>=2.5.0->tianshou) (1.0.0)\n",
            "Requirement already satisfied: six in /usr/local/lib/python3.7/dist-packages (from absl-py>=0.4->tensorboard>=2.5.0->tianshou) (1.15.0)\n",
            "Requirement already satisfied: cachetools<5.0,>=2.0.0 in /usr/local/lib/python3.7/dist-packages (from google-auth<3,>=1.6.3->tensorboard>=2.5.0->tianshou) (4.2.4)\n",
            "Requirement already satisfied: pyasn1-modules>=0.2.1 in /usr/local/lib/python3.7/dist-packages (from google-auth<3,>=1.6.3->tensorboard>=2.5.0->tianshou) (0.2.8)\n",
            "Requirement already satisfied: rsa<5,>=3.1.4 in /usr/local/lib/python3.7/dist-packages (from google-auth<3,>=1.6.3->tensorboard>=2.5.0->tianshou) (4.8)\n",
            "Requirement already satisfied: requests-oauthlib>=0.7.0 in /usr/local/lib/python3.7/dist-packages (from google-auth-oauthlib<0.5,>=0.4.1->tensorboard>=2.5.0->tianshou) (1.3.1)\n",
            "Requirement already satisfied: importlib-metadata>=4.4 in /usr/local/lib/python3.7/dist-packages (from markdown>=2.6.8->tensorboard>=2.5.0->tianshou) (4.11.3)\n",
            "Requirement already satisfied: typing-extensions>=3.6.4 in /usr/local/lib/python3.7/dist-packages (from importlib-metadata>=4.4->markdown>=2.6.8->tensorboard>=2.5.0->tianshou) (4.2.0)\n",
            "Requirement already satisfied: zipp>=0.5 in /usr/local/lib/python3.7/dist-packages (from importlib-metadata>=4.4->markdown>=2.6.8->tensorboard>=2.5.0->tianshou) (3.8.0)\n",
            "Requirement already satisfied: pyasn1<0.5.0,>=0.4.6 in /usr/local/lib/python3.7/dist-packages (from pyasn1-modules>=0.2.1->google-auth<3,>=1.6.3->tensorboard>=2.5.0->tianshou) (0.4.8)\n",
            "Requirement already satisfied: urllib3!=1.25.0,!=1.25.1,<1.26,>=1.21.1 in /usr/local/lib/python3.7/dist-packages (from requests<3,>=2.21.0->tensorboard>=2.5.0->tianshou) (1.24.3)\n",
            "Requirement already satisfied: certifi>=2017.4.17 in /usr/local/lib/python3.7/dist-packages (from requests<3,>=2.21.0->tensorboard>=2.5.0->tianshou) (2021.10.8)\n",
            "Requirement already satisfied: idna<3,>=2.5 in /usr/local/lib/python3.7/dist-packages (from requests<3,>=2.21.0->tensorboard>=2.5.0->tianshou) (2.10)\n",
            "Requirement already satisfied: chardet<4,>=3.0.2 in /usr/local/lib/python3.7/dist-packages (from requests<3,>=2.21.0->tensorboard>=2.5.0->tianshou) (3.0.4)\n",
            "Requirement already satisfied: oauthlib>=3.0.0 in /usr/local/lib/python3.7/dist-packages (from requests-oauthlib>=0.7.0->google-auth-oauthlib<0.5,>=0.4.1->tensorboard>=2.5.0->tianshou) (3.2.0)\n",
            "Installing collected packages: tianshou\n",
            "Successfully installed tianshou-0.4.7\n",
            "Collecting git+https://github.com/michalgregor/tianshou_agents.git\n",
            "  Cloning https://github.com/michalgregor/tianshou_agents.git to /tmp/pip-req-build-2s6pql3_\n",
            "  Running command git clone -q https://github.com/michalgregor/tianshou_agents.git /tmp/pip-req-build-2s6pql3_\n",
            "Requirement already satisfied: tianshou in /usr/local/lib/python3.7/dist-packages (from tianshou-agents==0.1) (0.4.7)\n",
            "Requirement already satisfied: gym in /usr/local/lib/python3.7/dist-packages (from tianshou-agents==0.1) (0.17.3)\n",
            "Requirement already satisfied: pyglet<=1.5.0,>=1.4.0 in /usr/local/lib/python3.7/dist-packages (from gym->tianshou-agents==0.1) (1.5.0)\n",
            "Requirement already satisfied: scipy in /usr/local/lib/python3.7/dist-packages (from gym->tianshou-agents==0.1) (1.4.1)\n",
            "Requirement already satisfied: cloudpickle<1.7.0,>=1.2.0 in /usr/local/lib/python3.7/dist-packages (from gym->tianshou-agents==0.1) (1.3.0)\n",
            "Requirement already satisfied: numpy>=1.10.4 in /usr/local/lib/python3.7/dist-packages (from gym->tianshou-agents==0.1) (1.21.6)\n",
            "Requirement already satisfied: future in /usr/local/lib/python3.7/dist-packages (from pyglet<=1.5.0,>=1.4.0->gym->tianshou-agents==0.1) (0.16.0)\n",
            "Requirement already satisfied: torch>=1.4.0 in /usr/local/lib/python3.7/dist-packages (from tianshou->tianshou-agents==0.1) (1.11.0+cu113)\n",
            "Requirement already satisfied: tensorboard>=2.5.0 in /usr/local/lib/python3.7/dist-packages (from tianshou->tianshou-agents==0.1) (2.8.0)\n",
            "Requirement already satisfied: h5py>=2.10.0 in /usr/local/lib/python3.7/dist-packages (from tianshou->tianshou-agents==0.1) (3.1.0)\n",
            "Requirement already satisfied: tqdm in /usr/local/lib/python3.7/dist-packages (from tianshou->tianshou-agents==0.1) (4.64.0)\n",
            "Requirement already satisfied: numba>=0.51.0 in /usr/local/lib/python3.7/dist-packages (from tianshou->tianshou-agents==0.1) (0.51.2)\n",
            "Requirement already satisfied: cached-property in /usr/local/lib/python3.7/dist-packages (from h5py>=2.10.0->tianshou->tianshou-agents==0.1) (1.5.2)\n",
            "Requirement already satisfied: llvmlite<0.35,>=0.34.0.dev0 in /usr/local/lib/python3.7/dist-packages (from numba>=0.51.0->tianshou->tianshou-agents==0.1) (0.34.0)\n",
            "Requirement already satisfied: setuptools in /usr/local/lib/python3.7/dist-packages (from numba>=0.51.0->tianshou->tianshou-agents==0.1) (57.4.0)\n",
            "Requirement already satisfied: tensorboard-data-server<0.7.0,>=0.6.0 in /usr/local/lib/python3.7/dist-packages (from tensorboard>=2.5.0->tianshou->tianshou-agents==0.1) (0.6.1)\n",
            "Requirement already satisfied: google-auth-oauthlib<0.5,>=0.4.1 in /usr/local/lib/python3.7/dist-packages (from tensorboard>=2.5.0->tianshou->tianshou-agents==0.1) (0.4.6)\n",
            "Requirement already satisfied: absl-py>=0.4 in /usr/local/lib/python3.7/dist-packages (from tensorboard>=2.5.0->tianshou->tianshou-agents==0.1) (1.0.0)\n",
            "Requirement already satisfied: wheel>=0.26 in /usr/local/lib/python3.7/dist-packages (from tensorboard>=2.5.0->tianshou->tianshou-agents==0.1) (0.37.1)\n",
            "Requirement already satisfied: werkzeug>=0.11.15 in /usr/local/lib/python3.7/dist-packages (from tensorboard>=2.5.0->tianshou->tianshou-agents==0.1) (1.0.1)\n",
            "Requirement already satisfied: requests<3,>=2.21.0 in /usr/local/lib/python3.7/dist-packages (from tensorboard>=2.5.0->tianshou->tianshou-agents==0.1) (2.23.0)\n",
            "Requirement already satisfied: markdown>=2.6.8 in /usr/local/lib/python3.7/dist-packages (from tensorboard>=2.5.0->tianshou->tianshou-agents==0.1) (3.3.6)\n",
            "Requirement already satisfied: tensorboard-plugin-wit>=1.6.0 in /usr/local/lib/python3.7/dist-packages (from tensorboard>=2.5.0->tianshou->tianshou-agents==0.1) (1.8.1)\n",
            "Requirement already satisfied: protobuf>=3.6.0 in /usr/local/lib/python3.7/dist-packages (from tensorboard>=2.5.0->tianshou->tianshou-agents==0.1) (3.17.3)\n",
            "Requirement already satisfied: google-auth<3,>=1.6.3 in /usr/local/lib/python3.7/dist-packages (from tensorboard>=2.5.0->tianshou->tianshou-agents==0.1) (1.35.0)\n",
            "Requirement already satisfied: grpcio>=1.24.3 in /usr/local/lib/python3.7/dist-packages (from tensorboard>=2.5.0->tianshou->tianshou-agents==0.1) (1.44.0)\n",
            "Requirement already satisfied: six in /usr/local/lib/python3.7/dist-packages (from absl-py>=0.4->tensorboard>=2.5.0->tianshou->tianshou-agents==0.1) (1.15.0)\n",
            "Requirement already satisfied: rsa<5,>=3.1.4 in /usr/local/lib/python3.7/dist-packages (from google-auth<3,>=1.6.3->tensorboard>=2.5.0->tianshou->tianshou-agents==0.1) (4.8)\n",
            "Requirement already satisfied: cachetools<5.0,>=2.0.0 in /usr/local/lib/python3.7/dist-packages (from google-auth<3,>=1.6.3->tensorboard>=2.5.0->tianshou->tianshou-agents==0.1) (4.2.4)\n",
            "Requirement already satisfied: pyasn1-modules>=0.2.1 in /usr/local/lib/python3.7/dist-packages (from google-auth<3,>=1.6.3->tensorboard>=2.5.0->tianshou->tianshou-agents==0.1) (0.2.8)\n",
            "Requirement already satisfied: requests-oauthlib>=0.7.0 in /usr/local/lib/python3.7/dist-packages (from google-auth-oauthlib<0.5,>=0.4.1->tensorboard>=2.5.0->tianshou->tianshou-agents==0.1) (1.3.1)\n",
            "Requirement already satisfied: importlib-metadata>=4.4 in /usr/local/lib/python3.7/dist-packages (from markdown>=2.6.8->tensorboard>=2.5.0->tianshou->tianshou-agents==0.1) (4.11.3)\n",
            "Requirement already satisfied: zipp>=0.5 in /usr/local/lib/python3.7/dist-packages (from importlib-metadata>=4.4->markdown>=2.6.8->tensorboard>=2.5.0->tianshou->tianshou-agents==0.1) (3.8.0)\n",
            "Requirement already satisfied: typing-extensions>=3.6.4 in /usr/local/lib/python3.7/dist-packages (from importlib-metadata>=4.4->markdown>=2.6.8->tensorboard>=2.5.0->tianshou->tianshou-agents==0.1) (4.2.0)\n",
            "Requirement already satisfied: pyasn1<0.5.0,>=0.4.6 in /usr/local/lib/python3.7/dist-packages (from pyasn1-modules>=0.2.1->google-auth<3,>=1.6.3->tensorboard>=2.5.0->tianshou->tianshou-agents==0.1) (0.4.8)\n",
            "Requirement already satisfied: chardet<4,>=3.0.2 in /usr/local/lib/python3.7/dist-packages (from requests<3,>=2.21.0->tensorboard>=2.5.0->tianshou->tianshou-agents==0.1) (3.0.4)\n",
            "Requirement already satisfied: idna<3,>=2.5 in /usr/local/lib/python3.7/dist-packages (from requests<3,>=2.21.0->tensorboard>=2.5.0->tianshou->tianshou-agents==0.1) (2.10)\n",
            "Requirement already satisfied: certifi>=2017.4.17 in /usr/local/lib/python3.7/dist-packages (from requests<3,>=2.21.0->tensorboard>=2.5.0->tianshou->tianshou-agents==0.1) (2021.10.8)\n",
            "Requirement already satisfied: urllib3!=1.25.0,!=1.25.1,<1.26,>=1.21.1 in /usr/local/lib/python3.7/dist-packages (from requests<3,>=2.21.0->tensorboard>=2.5.0->tianshou->tianshou-agents==0.1) (1.24.3)\n",
            "Requirement already satisfied: oauthlib>=3.0.0 in /usr/local/lib/python3.7/dist-packages (from requests-oauthlib>=0.7.0->google-auth-oauthlib<0.5,>=0.4.1->tensorboard>=2.5.0->tianshou->tianshou-agents==0.1) (3.2.0)\n",
            "Building wheels for collected packages: tianshou-agents\n",
            "  Building wheel for tianshou-agents (setup.py) ... \u001b[?25l\u001b[?25hdone\n",
            "  Created wheel for tianshou-agents: filename=tianshou_agents-0.1-py3-none-any.whl size=49720 sha256=cd17c7bd38e37daaf6425cde019f3f03dc5e3315b4d85ded3a4e794aa836935d\n",
            "  Stored in directory: /tmp/pip-ephem-wheel-cache-mprq83ik/wheels/cb/ef/e9/8794fa082fcfe8ee6255595117bac656566256f9755186adf0\n",
            "Successfully built tianshou-agents\n",
            "Installing collected packages: tianshou-agents\n",
            "Successfully installed tianshou-agents-0.1\n"
          ]
        }
      ],
      "source": [
        "#@title -- Installation of Packages -- { display-mode: \"form\" }\n",
        "import sys\n",
        "!{sys.executable} -m pip install gym[classic_control]\n",
        "!{sys.executable} -m pip install tianshou\n",
        "!{sys.executable} -m pip install git+https://github.com/michalgregor/tianshou_agents.git\n",
        "!{sys.executable} -m pip install pygame"
      ]
    },
    {
      "cell_type": "code",
      "execution_count": 1,
      "metadata": {
        "colab": {
          "base_uri": "https://localhost:8080/"
        },
        "id": "YEegXgizUoDv",
        "outputId": "9d834051-9151-43bb-ebcb-ec5882357b22"
      },
      "outputs": [
        {
          "name": "stderr",
          "output_type": "stream",
          "text": [
            "/usr/local/lib/python3.7/dist-packages/numba/core/types/__init__.py:108: DeprecationWarning: `np.long` is a deprecated alias for `np.compat.long`. To silence this warning, use `np.compat.long` by itself. In the likely event your code does not need to work on Python 2 you can use the builtin `int` for which `np.compat.long` is itself an alias. Doing this will not modify any behaviour and is safe. When replacing `np.long`, you may wish to use e.g. `np.int64` or `np.int32` to specify the precision. If you wish to review your current use, check the release note link for additional information.\n",
            "Deprecated in NumPy 1.20; for more details and guidance: https://numpy.org/devdocs/release/1.20.0-notes.html#deprecations\n",
            "  long_ = _make_signed(np.long)\n",
            "/usr/local/lib/python3.7/dist-packages/scipy/fft/__init__.py:97: DeprecationWarning: The module numpy.dual is deprecated.  Instead of using dual, use the functions directly from numpy or scipy.\n",
            "  from numpy.dual import register_func\n"
          ]
        }
      ],
      "source": [
        "#@title -- Import of Necessary Packages -- { display-mode: \"form\" }\n",
        "from tianshou_agents.methods.sac import sac_simple\n",
        "from tianshou_agents.components import PassiveCollector\n",
        "from tianshou.data import Batch\n",
        "from tianshou.env import DummyVectorEnv\n",
        "import numpy as np\n",
        "import gym"
      ]
    },
    {
      "cell_type": "markdown",
      "metadata": {
        "id": "hL5C-4vVUoDy"
      },
      "source": [
        "## Passive"
      ]
    },
    {
      "cell_type": "code",
      "execution_count": null,
      "metadata": {
        "id": "Ycw7-38cUoD1",
        "outputId": "72d5f471-2c42-4bfc-aed3-3445274ec843"
      },
      "outputs": [
        {
          "name": "stderr",
          "output_type": "stream",
          "text": [
            "C:\\Users\\Michal\\anaconda3\\lib\\site-packages\\gym\\core.py:172: DeprecationWarning: \u001b[33mWARN: Function `env.seed(seed)` is marked as deprecated and will be removed in the future. Please use `env.reset(seed=seed) instead.\u001b[0m\n",
            "  deprecation(\n",
            "Epoch #1: 1001it [01:00, 16.49it/s, alpha=0.754, env_step=1000, len=200, loss/actor=25.749, loss/alpha=-0.642, loss/critic1=2.377, loss/critic2=2.363, n/ep=1, n/st=1, rew=-1744.86]                          \n",
            "Epoch #2: 1001it [00:47, 21.16it/s, alpha=0.564, env_step=2000, len=200, loss/actor=57.189, loss/alpha=-1.200, loss/critic1=3.508, loss/critic2=3.589, n/ep=1, n/st=1, rew=-1519.57]                          \n",
            "Epoch #3: 1001it [00:49, 20.04it/s, alpha=0.433, env_step=3000, len=200, loss/actor=77.267, loss/alpha=-1.342, loss/critic1=4.793, loss/critic2=5.405, n/ep=1, n/st=1, rew=-961.13]                          \n",
            "Epoch #4: 1001it [00:49, 20.28it/s, alpha=0.342, env_step=4000, len=200, loss/actor=94.405, loss/alpha=-1.414, loss/critic1=6.861, loss/critic2=7.632, n/ep=1, n/st=1, rew=-1222.44]                           \n",
            "Epoch #5: 1001it [00:49, 20.38it/s, alpha=0.265, env_step=5000, len=200, loss/actor=113.015, loss/alpha=-1.631, loss/critic1=8.361, loss/critic2=9.188, n/ep=1, n/st=1, rew=-1392.34]                           \n",
            "Epoch #6: 1001it [00:49, 20.30it/s, alpha=0.201, env_step=6000, len=200, loss/actor=129.969, loss/alpha=-1.914, loss/critic1=11.760, loss/critic2=12.732, n/ep=1, n/st=1, rew=-506.38]                          \n",
            "Epoch #7: 1001it [00:49, 20.05it/s, alpha=0.156, env_step=7000, len=200, loss/actor=139.952, loss/alpha=-1.524, loss/critic1=12.517, loss/critic2=13.884, n/ep=1, n/st=1, rew=-125.60]                          \n",
            "Epoch #8: 1001it [00:50, 19.79it/s, alpha=0.131, env_step=8000, len=200, loss/actor=143.222, loss/alpha=-0.762, loss/critic1=27.636, loss/critic2=29.756, n/ep=1, n/st=1, rew=-121.01]                          \n",
            "Epoch #9: 1001it [00:45, 21.82it/s, alpha=0.116, env_step=9000, len=200, loss/actor=143.909, loss/alpha=-0.449, loss/critic1=28.306, loss/critic2=30.973, n/ep=1, n/st=1, rew=-234.60]                          \n",
            "Epoch #10: 1001it [00:40, 24.46it/s, alpha=0.104, env_step=10000, len=200, loss/actor=145.194, loss/alpha=-0.394, loss/critic1=44.315, loss/critic2=47.552, n/ep=1, n/st=1, rew=-1.08]                          \n"
          ]
        },
        {
          "name": "stdout",
          "output_type": "stream",
          "text": [
            "rewards: -149.877210 ± 122.860291\n",
            "num episodes: 5\n"
          ]
        },
        {
          "name": "stderr",
          "output_type": "stream",
          "text": [
            "Epoch #1: 1001it [00:36, 27.43it/s, alpha=0.754, env_step=1000, len=200, loss/actor=25.714, loss/alpha=-0.642, loss/critic1=2.624, loss/critic2=2.688, n/ep=1, n/st=1, rew=-1651.46]                          \n",
            "Epoch #2: 1001it [00:38, 25.96it/s, alpha=0.566, env_step=2000, len=200, loss/actor=55.829, loss/alpha=-1.144, loss/critic1=2.795, loss/critic2=2.758, n/ep=1, n/st=1, rew=-1494.87]                          \n",
            "Epoch #3: 1001it [00:42, 23.28it/s, alpha=0.437, env_step=3000, len=200, loss/actor=76.741, loss/alpha=-1.262, loss/critic1=7.483, loss/critic2=7.941, n/ep=1, n/st=1, rew=-1136.20]                          \n",
            "Epoch #4: 1001it [00:42, 23.63it/s, alpha=0.344, env_step=4000, len=200, loss/actor=93.093, loss/alpha=-1.397, loss/critic1=10.071, loss/critic2=10.321, n/ep=1, n/st=1, rew=-1304.23]                          \n",
            "Epoch #5: 1001it [00:38, 25.68it/s, alpha=0.262, env_step=5000, len=200, loss/actor=111.854, loss/alpha=-1.848, loss/critic1=11.191, loss/critic2=11.370, n/ep=1, n/st=1, rew=-380.75]                          \n",
            "Epoch #6: 1001it [00:43, 22.94it/s, alpha=0.201, env_step=6000, len=200, loss/actor=124.242, loss/alpha=-1.672, loss/critic1=13.904, loss/critic2=13.504, n/ep=1, n/st=1, rew=-126.82]                          \n",
            "Epoch #7: 1001it [00:47, 20.97it/s, alpha=0.163, env_step=7000, len=200, loss/actor=132.907, loss/alpha=-1.211, loss/critic1=22.891, loss/critic2=22.557, n/ep=1, n/st=1, rew=-126.18]                          \n",
            "Epoch #8: 1001it [00:45, 22.14it/s, alpha=0.136, env_step=8000, len=200, loss/actor=136.794, loss/alpha=-0.722, loss/critic1=29.726, loss/critic2=28.987, n/ep=1, n/st=1, rew=-250.34]                          \n",
            "Epoch #9: 1001it [00:35, 28.37it/s, alpha=0.117, env_step=9000, len=200, loss/actor=138.652, loss/alpha=-0.565, loss/critic1=36.386, loss/critic2=35.482, n/ep=1, n/st=1, rew=-362.27]                          \n",
            "Epoch #10: 1001it [00:31, 31.56it/s, alpha=0.101, env_step=10000, len=200, loss/actor=139.431, loss/alpha=-0.326, loss/critic1=68.830, loss/critic2=68.101, n/ep=1, n/st=1, rew=-1.82]                           \n"
          ]
        },
        {
          "name": "stdout",
          "output_type": "stream",
          "text": [
            "rewards: -169.844730 ± 158.844920\n",
            "num episodes: 5\n"
          ]
        },
        {
          "name": "stderr",
          "output_type": "stream",
          "text": [
            "Epoch #1: 1001it [00:30, 33.24it/s, alpha=0.754, env_step=1000, len=200, loss/actor=22.104, loss/alpha=-0.638, loss/critic1=1.800, loss/critic2=1.678, n/ep=1, n/st=1, rew=-1626.38]                          \n",
            "Epoch #2: 1001it [00:30, 32.33it/s, alpha=0.567, env_step=2000, len=200, loss/actor=51.109, loss/alpha=-1.125, loss/critic1=5.412, loss/critic2=5.383, n/ep=1, n/st=1, rew=-1431.40]                          \n",
            "Epoch #3: 1001it [00:30, 33.17it/s, alpha=0.438, env_step=3000, len=200, loss/actor=73.159, loss/alpha=-1.280, loss/critic1=6.922, loss/critic2=7.138, n/ep=1, n/st=1, rew=-1068.32]                          \n",
            "Epoch #4: 1001it [00:31, 31.65it/s, alpha=0.343, env_step=4000, len=200, loss/actor=89.217, loss/alpha=-1.385, loss/critic1=10.631, loss/critic2=9.646, n/ep=1, n/st=1, rew=-1271.89]                          \n",
            "Epoch #5: 1001it [00:33, 29.91it/s, alpha=0.265, env_step=5000, len=200, loss/actor=107.644, loss/alpha=-1.672, loss/critic1=8.217, loss/critic2=7.198, n/ep=1, n/st=1, rew=-1230.95]                          \n",
            "Epoch #6: 1001it [00:30, 32.31it/s, alpha=0.201, env_step=6000, len=200, loss/actor=126.221, loss/alpha=-1.883, loss/critic1=9.828, loss/critic2=9.764, n/ep=1, n/st=1, rew=-762.83]                           \n",
            "Epoch #7: 1001it [00:30, 32.85it/s, alpha=0.158, env_step=7000, len=200, loss/actor=140.185, loss/alpha=-1.372, loss/critic1=13.192, loss/critic2=12.608, n/ep=1, n/st=1, rew=-436.78]                          \n",
            "Epoch #8: 1001it [00:31, 31.93it/s, alpha=0.134, env_step=8000, len=200, loss/actor=148.536, loss/alpha=-0.611, loss/critic1=17.978, loss/critic2=16.899, n/ep=1, n/st=1, rew=-380.67]                          \n",
            "Epoch #9: 1001it [00:30, 33.35it/s, alpha=0.127, env_step=9000, len=200, loss/actor=152.474, loss/alpha=-0.142, loss/critic1=24.444, loss/critic2=23.309, n/ep=1, n/st=1, rew=-241.79]                          \n",
            "Epoch #10: 1001it [00:31, 32.26it/s, alpha=0.122, env_step=10000, len=200, loss/actor=154.761, loss/alpha=-0.124, loss/critic1=43.441, loss/critic2=42.667, n/ep=1, n/st=1, rew=-1.86]                           \n"
          ]
        },
        {
          "name": "stdout",
          "output_type": "stream",
          "text": [
            "rewards: -128.944983 ± 81.533843\n",
            "num episodes: 5\n"
          ]
        },
        {
          "name": "stderr",
          "output_type": "stream",
          "text": [
            "Epoch #1: 1001it [00:29, 34.05it/s, alpha=0.753, env_step=1000, len=200, loss/actor=23.886, loss/alpha=-0.646, loss/critic1=3.216, loss/critic2=3.108, n/ep=1, n/st=1, rew=-1550.40]                          \n",
            "Epoch #2: 1001it [00:30, 33.09it/s, alpha=0.565, env_step=2000, len=200, loss/actor=52.775, loss/alpha=-1.160, loss/critic1=3.036, loss/critic2=2.856, n/ep=1, n/st=1, rew=-1580.14]                          \n",
            "Epoch #3: 1001it [00:30, 32.62it/s, alpha=0.437, env_step=3000, len=200, loss/actor=73.074, loss/alpha=-1.239, loss/critic1=4.916, loss/critic2=3.863, n/ep=1, n/st=1, rew=-1071.51]                          \n",
            "Epoch #4: 1001it [00:30, 32.62it/s, alpha=0.347, env_step=4000, len=200, loss/actor=90.622, loss/alpha=-1.308, loss/critic1=5.000, loss/critic2=4.192, n/ep=1, n/st=1, rew=-1212.62]                          \n",
            "Epoch #5: 1001it [00:30, 33.06it/s, alpha=0.268, env_step=5000, len=200, loss/actor=109.310, loss/alpha=-1.618, loss/critic1=6.780, loss/critic2=6.970, n/ep=1, n/st=1, rew=-1055.50]                          \n",
            "Epoch #6: 1001it [00:30, 32.79it/s, alpha=0.206, env_step=6000, len=200, loss/actor=126.327, loss/alpha=-1.557, loss/critic1=9.983, loss/critic2=9.827, n/ep=1, n/st=1, rew=-509.12]                           \n",
            "Epoch #7: 1001it [00:29, 33.44it/s, alpha=0.166, env_step=7000, len=200, loss/actor=136.519, loss/alpha=-1.084, loss/critic1=9.359, loss/critic2=8.819, n/ep=1, n/st=1, rew=-256.21]                           \n",
            "Epoch #8: 1001it [00:30, 32.33it/s, alpha=0.141, env_step=8000, len=200, loss/actor=140.691, loss/alpha=-0.669, loss/critic1=17.242, loss/critic2=16.722, n/ep=1, n/st=1, rew=-128.34]                          \n",
            "Epoch #9: 1001it [00:31, 32.10it/s, alpha=0.123, env_step=9000, len=200, loss/actor=143.357, loss/alpha=-0.354, loss/critic1=28.098, loss/critic2=27.537, n/ep=1, n/st=1, rew=-237.50]                          \n",
            "Epoch #10: 1001it [00:31, 32.05it/s, alpha=0.109, env_step=10000, len=200, loss/actor=144.262, loss/alpha=-0.305, loss/critic1=57.855, loss/critic2=57.299, n/ep=1, n/st=1, rew=-1.21]                          \n"
          ]
        },
        {
          "name": "stdout",
          "output_type": "stream",
          "text": [
            "rewards: -128.728912 ± 83.169117\n",
            "num episodes: 5\n"
          ]
        },
        {
          "name": "stderr",
          "output_type": "stream",
          "text": [
            "Epoch #1: 1001it [00:30, 33.30it/s, alpha=0.753, env_step=1000, len=200, loss/actor=26.332, loss/alpha=-0.652, loss/critic1=2.924, loss/critic2=2.493, n/ep=1, n/st=1, rew=-1582.53]                          \n",
            "Epoch #2: 1001it [00:30, 32.93it/s, alpha=0.566, env_step=2000, len=200, loss/actor=54.713, loss/alpha=-1.110, loss/critic1=4.621, loss/critic2=4.214, n/ep=1, n/st=1, rew=-1363.62]                          \n",
            "Epoch #3: 1001it [00:31, 32.08it/s, alpha=0.441, env_step=3000, len=200, loss/actor=75.929, loss/alpha=-1.169, loss/critic1=8.214, loss/critic2=6.311, n/ep=1, n/st=1, rew=-770.29]                          \n",
            "Epoch #4: 1001it [00:29, 33.38it/s, alpha=0.352, env_step=4000, len=200, loss/actor=93.368, loss/alpha=-1.239, loss/critic1=14.915, loss/critic2=6.919, n/ep=1, n/st=1, rew=-958.08]                           \n",
            "Epoch #5: 1001it [00:30, 32.77it/s, alpha=0.270, env_step=5000, len=200, loss/actor=113.236, loss/alpha=-1.706, loss/critic1=8.532, loss/critic2=5.614, n/ep=1, n/st=1, rew=-1178.10]                          \n",
            "Epoch #6: 1001it [00:29, 33.82it/s, alpha=0.203, env_step=6000, len=200, loss/actor=131.446, loss/alpha=-1.856, loss/critic1=7.566, loss/critic2=5.817, n/ep=1, n/st=1, rew=-633.24]                          \n",
            "Epoch #7: 1001it [00:30, 32.96it/s, alpha=0.159, env_step=7000, len=200, loss/actor=144.739, loss/alpha=-1.456, loss/critic1=10.550, loss/critic2=8.621, n/ep=1, n/st=1, rew=-441.81]                          \n",
            "Epoch #8: 1001it [00:30, 33.12it/s, alpha=0.132, env_step=8000, len=200, loss/actor=154.140, loss/alpha=-0.878, loss/critic1=20.264, loss/critic2=17.846, n/ep=1, n/st=1, rew=-389.89]                          \n",
            "Epoch #9: 1001it [00:31, 31.82it/s, alpha=0.115, env_step=9000, len=200, loss/actor=159.394, loss/alpha=-0.441, loss/critic1=29.280, loss/critic2=26.167, n/ep=1, n/st=1, rew=-235.97]                          \n",
            "Epoch #10: 1001it [00:30, 32.84it/s, alpha=0.107, env_step=10000, len=200, loss/actor=162.562, loss/alpha=-0.004, loss/critic1=30.165, loss/critic2=26.425, n/ep=1, n/st=1, rew=-1.73]                          \n"
          ]
        },
        {
          "name": "stdout",
          "output_type": "stream",
          "text": [
            "rewards: -154.403355 ± 127.904609\n",
            "num episodes: 5\n"
          ]
        }
      ],
      "source": [
        "passive_results = []\n",
        "\n",
        "for seed in range(5):\n",
        "    # create envs\n",
        "    env = DummyVectorEnv([lambda: gym.make('Pendulum-v1')])\n",
        "    env.seed(seed=0)\n",
        "\n",
        "    # create the agent\n",
        "    agent = sac_simple(\n",
        "        'Pendulum-v1',\n",
        "        train_collector=None,\n",
        "        test_collector=None,\n",
        "        observation_space=env.observation_space[0],\n",
        "        action_space=env.action_space[0],\n",
        "        init_passive_interface=True,\n",
        "        step_per_epoch=1000,\n",
        "        seed=seed\n",
        "    )\n",
        "\n",
        "    # prefill the buffer\n",
        "    done = None\n",
        "    obs = env.reset()\n",
        "\n",
        "    for istep in range(128):\n",
        "        act = [space.sample() for space in env.action_space]\n",
        "        obs_next, rew, done, info = env.step(act)\n",
        "        \n",
        "        transition = Batch(obs=obs, obs_next=obs_next, rew=rew, done=done, info=info)\n",
        "        transition.update(**Batch(act=act))\n",
        "\n",
        "        agent.observe_transition(transition, training_enabled=False)\n",
        "\n",
        "        obs = obs_next\n",
        "        done_envs = np.where(done)[0]\n",
        "\n",
        "        if len(done_envs):\n",
        "            env.reset(done_envs)\n",
        "\n",
        "    # run training\n",
        "    state = None\n",
        "    done = None\n",
        "    obs = env.reset()\n",
        "\n",
        "    for istep in range(10000):\n",
        "        act_batch, state = agent.act(obs, state=state, done=done)\n",
        "        obs_next, rew, done, info = env.step(act_batch.act)\n",
        "\n",
        "        transition = Batch(obs=obs, obs_next=obs_next, rew=rew, done=done, info=info)\n",
        "        transition.update(**act_batch, **state)\n",
        "        agent.observe_transition(transition)\n",
        "\n",
        "        obs = obs_next\n",
        "        done_envs = np.where(done)[0]\n",
        "\n",
        "        if len(done_envs):\n",
        "            env.reset(done_envs)\n",
        "\n",
        "    # run testing\n",
        "    state = None\n",
        "    done = None\n",
        "    obs = env.reset()\n",
        "\n",
        "    passive_collector = PassiveCollector(agent.policy)\n",
        "    passive_collector.make_collect(n_episode=5)\n",
        "\n",
        "    while True:\n",
        "        act_batch, state = agent.act(obs, state=state, done=done, mode='eval')\n",
        "        obs_next, rew, done, info = env.step(act_batch.act)\n",
        "\n",
        "        transition = Batch(obs=obs, obs_next=obs_next, rew=rew, done=done, info=info)\n",
        "        transition.update(**act_batch, **state)\n",
        "        result = passive_collector.observe_transition(transition)\n",
        "\n",
        "        obs = obs_next\n",
        "        done_envs = np.where(done)[0]\n",
        "\n",
        "        if len(done_envs):\n",
        "            env.reset(done_envs)\n",
        "\n",
        "        if result is not None:\n",
        "            break\n",
        "\n",
        "    print(f\"rewards: {result['rew']:.6f} ± {result['rew_std']:.6f}\")\n",
        "    print(f\"num episodes: {result['n/ep']}\")\n",
        "\n",
        "    passive_results.append(result)"
      ]
    },
    {
      "cell_type": "code",
      "execution_count": null,
      "metadata": {
        "id": "nDjN0abAUoEK",
        "outputId": "5cde9c8f-cb13-40f1-832a-f6061a23198c"
      },
      "outputs": [
        {
          "name": "stdout",
          "output_type": "stream",
          "text": [
            "-149.87721037442364 122.86029067291372\n",
            "-169.84472997588384 158.8449199714876\n",
            "-128.94498273113908 81.53384332857709\n",
            "-128.72891152802816 83.16911748465036\n",
            "-154.40335456581437 127.90460857226506\n"
          ]
        }
      ],
      "source": [
        "for r in passive_results:\n",
        "    print(r['rew'], r['rew_std'])"
      ]
    },
    {
      "cell_type": "markdown",
      "metadata": {
        "id": "yQ8bBTcYUoEM"
      },
      "source": [
        "## Active"
      ]
    },
    {
      "cell_type": "code",
      "execution_count": 4,
      "metadata": {
        "colab": {
          "base_uri": "https://localhost:8080/"
        },
        "id": "cKaKBaAZUoEM",
        "outputId": "c9695a97-c555-4b1f-9564-3b2ade9de56c"
      },
      "outputs": [
        {
          "name": "stderr",
          "output_type": "stream",
          "text": [
            "/usr/local/lib/python3.7/dist-packages/gym/core.py:173: DeprecationWarning: \u001b[33mWARN: Function `env.seed(seed)` is marked as deprecated and will be removed in the future. Please use `env.reset(seed=seed) instead.\u001b[0m\n",
            "  \"Function `env.seed(seed)` is marked as deprecated and will be removed in the future. \"\n",
            "/usr/local/lib/python3.7/dist-packages/scipy/sparse/sputils.py:17: DeprecationWarning: `np.typeDict` is a deprecated alias for `np.sctypeDict`.\n",
            "  supported_dtypes = [np.typeDict[x] for x in supported_dtypes]\n",
            "/usr/local/lib/python3.7/dist-packages/numba/core/ir_utils.py:1525: DeprecationWarning: `np.bool` is a deprecated alias for the builtin `bool`. To silence this warning, use `bool` by itself. Doing this will not modify any behavior and is safe. If you specifically wanted the numpy scalar type, use `np.bool_` here.\n",
            "Deprecated in NumPy 1.20; for more details and guidance: https://numpy.org/devdocs/release/1.20.0-notes.html#deprecations\n",
            "  if (hasattr(numpy, value)\n",
            "/usr/local/lib/python3.7/dist-packages/numba/core/ir_utils.py:1525: DeprecationWarning: `np.bool` is a deprecated alias for the builtin `bool`. To silence this warning, use `bool` by itself. Doing this will not modify any behavior and is safe. If you specifically wanted the numpy scalar type, use `np.bool_` here.\n",
            "Deprecated in NumPy 1.20; for more details and guidance: https://numpy.org/devdocs/release/1.20.0-notes.html#deprecations\n",
            "  if (hasattr(numpy, value)\n",
            "/usr/local/lib/python3.7/dist-packages/numba/core/ir_utils.py:1525: DeprecationWarning: `np.bool` is a deprecated alias for the builtin `bool`. To silence this warning, use `bool` by itself. Doing this will not modify any behavior and is safe. If you specifically wanted the numpy scalar type, use `np.bool_` here.\n",
            "Deprecated in NumPy 1.20; for more details and guidance: https://numpy.org/devdocs/release/1.20.0-notes.html#deprecations\n",
            "  if (hasattr(numpy, value)\n",
            "/usr/local/lib/python3.7/dist-packages/numba/core/ir_utils.py:1525: DeprecationWarning: `np.bool` is a deprecated alias for the builtin `bool`. To silence this warning, use `bool` by itself. Doing this will not modify any behavior and is safe. If you specifically wanted the numpy scalar type, use `np.bool_` here.\n",
            "Deprecated in NumPy 1.20; for more details and guidance: https://numpy.org/devdocs/release/1.20.0-notes.html#deprecations\n",
            "  if (hasattr(numpy, value)\n",
            "/usr/local/lib/python3.7/dist-packages/numba/core/ir_utils.py:1525: DeprecationWarning: `np.bool` is a deprecated alias for the builtin `bool`. To silence this warning, use `bool` by itself. Doing this will not modify any behavior and is safe. If you specifically wanted the numpy scalar type, use `np.bool_` here.\n",
            "Deprecated in NumPy 1.20; for more details and guidance: https://numpy.org/devdocs/release/1.20.0-notes.html#deprecations\n",
            "  if (hasattr(numpy, value)\n",
            "/usr/local/lib/python3.7/dist-packages/numba/core/ir_utils.py:1525: DeprecationWarning: `np.bool` is a deprecated alias for the builtin `bool`. To silence this warning, use `bool` by itself. Doing this will not modify any behavior and is safe. If you specifically wanted the numpy scalar type, use `np.bool_` here.\n",
            "Deprecated in NumPy 1.20; for more details and guidance: https://numpy.org/devdocs/release/1.20.0-notes.html#deprecations\n",
            "  if (hasattr(numpy, value)\n",
            "/usr/local/lib/python3.7/dist-packages/numba/core/ir_utils.py:1525: DeprecationWarning: `np.bool` is a deprecated alias for the builtin `bool`. To silence this warning, use `bool` by itself. Doing this will not modify any behavior and is safe. If you specifically wanted the numpy scalar type, use `np.bool_` here.\n",
            "Deprecated in NumPy 1.20; for more details and guidance: https://numpy.org/devdocs/release/1.20.0-notes.html#deprecations\n",
            "  if (hasattr(numpy, value)\n",
            "/usr/local/lib/python3.7/dist-packages/numba/core/ir_utils.py:1525: DeprecationWarning: `np.bool` is a deprecated alias for the builtin `bool`. To silence this warning, use `bool` by itself. Doing this will not modify any behavior and is safe. If you specifically wanted the numpy scalar type, use `np.bool_` here.\n",
            "Deprecated in NumPy 1.20; for more details and guidance: https://numpy.org/devdocs/release/1.20.0-notes.html#deprecations\n",
            "  if (hasattr(numpy, value)\n",
            "/usr/local/lib/python3.7/dist-packages/numba/core/ir_utils.py:1525: DeprecationWarning: `np.bool` is a deprecated alias for the builtin `bool`. To silence this warning, use `bool` by itself. Doing this will not modify any behavior and is safe. If you specifically wanted the numpy scalar type, use `np.bool_` here.\n",
            "Deprecated in NumPy 1.20; for more details and guidance: https://numpy.org/devdocs/release/1.20.0-notes.html#deprecations\n",
            "  if (hasattr(numpy, value)\n",
            "/usr/local/lib/python3.7/dist-packages/numba/core/ir_utils.py:1525: DeprecationWarning: `np.bool` is a deprecated alias for the builtin `bool`. To silence this warning, use `bool` by itself. Doing this will not modify any behavior and is safe. If you specifically wanted the numpy scalar type, use `np.bool_` here.\n",
            "Deprecated in NumPy 1.20; for more details and guidance: https://numpy.org/devdocs/release/1.20.0-notes.html#deprecations\n",
            "  if (hasattr(numpy, value)\n",
            "/usr/local/lib/python3.7/dist-packages/gym/core.py:173: DeprecationWarning: \u001b[33mWARN: Function `env.seed(seed)` is marked as deprecated and will be removed in the future. Please use `env.reset(seed=seed) instead.\u001b[0m\n",
            "  \"Function `env.seed(seed)` is marked as deprecated and will be removed in the future. \"\n",
            "/usr/local/lib/python3.7/dist-packages/gym/core.py:173: DeprecationWarning: \u001b[33mWARN: Function `env.seed(seed)` is marked as deprecated and will be removed in the future. Please use `env.reset(seed=seed) instead.\u001b[0m\n",
            "  \"Function `env.seed(seed)` is marked as deprecated and will be removed in the future. \"\n",
            "/usr/local/lib/python3.7/dist-packages/gym/core.py:173: DeprecationWarning: \u001b[33mWARN: Function `env.seed(seed)` is marked as deprecated and will be removed in the future. Please use `env.reset(seed=seed) instead.\u001b[0m\n",
            "  \"Function `env.seed(seed)` is marked as deprecated and will be removed in the future. \"\n",
            "/usr/local/lib/python3.7/dist-packages/gym/core.py:173: DeprecationWarning: \u001b[33mWARN: Function `env.seed(seed)` is marked as deprecated and will be removed in the future. Please use `env.reset(seed=seed) instead.\u001b[0m\n",
            "  \"Function `env.seed(seed)` is marked as deprecated and will be removed in the future. \"\n",
            "/usr/local/lib/python3.7/dist-packages/gym/core.py:173: DeprecationWarning: \u001b[33mWARN: Function `env.seed(seed)` is marked as deprecated and will be removed in the future. Please use `env.reset(seed=seed) instead.\u001b[0m\n",
            "  \"Function `env.seed(seed)` is marked as deprecated and will be removed in the future. \"\n",
            "/usr/local/lib/python3.7/dist-packages/scipy/special/orthogonal.py:81: DeprecationWarning: `np.int` is a deprecated alias for the builtin `int`. To silence this warning, use `int` by itself. Doing this will not modify any behavior and is safe. When replacing `np.int`, you may wish to use e.g. `np.int64` or `np.int32` to specify the precision. If you wish to review your current use, check the release note link for additional information.\n",
            "Deprecated in NumPy 1.20; for more details and guidance: https://numpy.org/devdocs/release/1.20.0-notes.html#deprecations\n",
            "  from numpy import (exp, inf, pi, sqrt, floor, sin, cos, around, int,\n",
            "Epoch #1: 1001it [00:21, 47.18it/s, alpha=0.753, env_step=1000, len=200, loss/actor=26.282, loss/alpha=-0.648, loss/critic1=0.325, loss/critic2=0.427, n/ep=0, n/st=1, rew=-1436.41]                          \n"
          ]
        },
        {
          "name": "stdout",
          "output_type": "stream",
          "text": [
            "Epoch #1: test_reward: -1556.133689 ± 0.000000, best_reward: -1556.133689 ± 0.000000 in #1\n"
          ]
        },
        {
          "name": "stderr",
          "output_type": "stream",
          "text": [
            "Epoch #2: 1001it [00:19, 51.98it/s, alpha=0.566, env_step=2000, len=200, loss/actor=55.772, loss/alpha=-1.120, loss/critic1=0.308, loss/critic2=0.409, n/ep=0, n/st=1, rew=-1242.07]                          \n"
          ]
        },
        {
          "name": "stdout",
          "output_type": "stream",
          "text": [
            "Epoch #2: test_reward: -1071.445563 ± 0.000000, best_reward: -1071.445563 ± 0.000000 in #2\n"
          ]
        },
        {
          "name": "stderr",
          "output_type": "stream",
          "text": [
            "Epoch #3: 1001it [00:19, 50.25it/s, alpha=0.443, env_step=3000, len=200, loss/actor=74.183, loss/alpha=-1.130, loss/critic1=1.414, loss/critic2=1.992, n/ep=0, n/st=1, rew=-1059.42]                          \n"
          ]
        },
        {
          "name": "stdout",
          "output_type": "stream",
          "text": [
            "Epoch #3: test_reward: -825.298506 ± 0.000000, best_reward: -825.298506 ± 0.000000 in #3\n"
          ]
        },
        {
          "name": "stderr",
          "output_type": "stream",
          "text": [
            "Epoch #4: 1001it [00:20, 49.15it/s, alpha=0.352, env_step=4000, len=200, loss/actor=90.686, loss/alpha=-1.182, loss/critic1=1.299, loss/critic2=1.914, n/ep=0, n/st=1, rew=-892.88]                          \n"
          ]
        },
        {
          "name": "stdout",
          "output_type": "stream",
          "text": [
            "Epoch #4: test_reward: -877.612070 ± 0.000000, best_reward: -825.298506 ± 0.000000 in #3\n"
          ]
        },
        {
          "name": "stderr",
          "output_type": "stream",
          "text": [
            "Epoch #5: 1001it [00:19, 51.38it/s, alpha=0.278, env_step=5000, len=200, loss/actor=102.148, loss/alpha=-1.259, loss/critic1=1.810, loss/critic2=2.485, n/ep=0, n/st=1, rew=-260.10]\n"
          ]
        },
        {
          "name": "stdout",
          "output_type": "stream",
          "text": [
            "Epoch #5: test_reward: -246.425532 ± 0.000000, best_reward: -246.425532 ± 0.000000 in #5\n"
          ]
        },
        {
          "name": "stderr",
          "output_type": "stream",
          "text": [
            "Epoch #6: 1001it [00:19, 50.14it/s, alpha=0.219, env_step=6000, len=200, loss/actor=108.599, loss/alpha=-1.215, loss/critic1=1.891, loss/critic2=2.922, n/ep=0, n/st=1, rew=-118.64]\n"
          ]
        },
        {
          "name": "stdout",
          "output_type": "stream",
          "text": [
            "Epoch #6: test_reward: -244.853554 ± 0.000000, best_reward: -244.853554 ± 0.000000 in #6\n"
          ]
        },
        {
          "name": "stderr",
          "output_type": "stream",
          "text": [
            "Epoch #7: 1001it [00:19, 50.20it/s, alpha=0.174, env_step=7000, len=200, loss/actor=109.431, loss/alpha=-1.096, loss/critic1=2.061, loss/critic2=2.821, n/ep=0, n/st=1, rew=-125.51]                          \n"
          ]
        },
        {
          "name": "stdout",
          "output_type": "stream",
          "text": [
            "Epoch #7: test_reward: -130.709837 ± 0.000000, best_reward: -130.709837 ± 0.000000 in #7\n"
          ]
        },
        {
          "name": "stderr",
          "output_type": "stream",
          "text": [
            "Epoch #8: 1001it [00:20, 48.99it/s, alpha=0.141, env_step=8000, len=200, loss/actor=107.547, loss/alpha=-0.906, loss/critic1=2.380, loss/critic2=2.828, n/ep=0, n/st=1, rew=-249.71]\n"
          ]
        },
        {
          "name": "stdout",
          "output_type": "stream",
          "text": [
            "Epoch #8: test_reward: -124.377595 ± 0.000000, best_reward: -124.377595 ± 0.000000 in #8\n"
          ]
        },
        {
          "name": "stderr",
          "output_type": "stream",
          "text": [
            "Epoch #9: 1001it [00:20, 49.42it/s, alpha=0.113, env_step=9000, len=200, loss/actor=102.993, loss/alpha=-1.019, loss/critic1=2.981, loss/critic2=3.365, n/ep=0, n/st=1, rew=-250.42]                          \n"
          ]
        },
        {
          "name": "stdout",
          "output_type": "stream",
          "text": [
            "Epoch #9: test_reward: -1.693383 ± 0.000000, best_reward: -1.693383 ± 0.000000 in #9\n"
          ]
        },
        {
          "name": "stderr",
          "output_type": "stream",
          "text": [
            "Epoch #10: 1001it [00:20, 49.96it/s, alpha=0.089, env_step=10000, len=200, loss/actor=100.354, loss/alpha=-1.016, loss/critic1=3.676, loss/critic2=4.253, n/ep=0, n/st=1, rew=-235.35]                          \n"
          ]
        },
        {
          "name": "stdout",
          "output_type": "stream",
          "text": [
            "Epoch #10: test_reward: -238.274477 ± 0.000000, best_reward: -1.693383 ± 0.000000 in #9\n",
            "rewards: -99.464809 ± 91.435357\n",
            "num episodes: 5\n"
          ]
        },
        {
          "name": "stderr",
          "output_type": "stream",
          "text": [
            "/usr/local/lib/python3.7/dist-packages/gym/core.py:173: DeprecationWarning: \u001b[33mWARN: Function `env.seed(seed)` is marked as deprecated and will be removed in the future. Please use `env.reset(seed=seed) instead.\u001b[0m\n",
            "  \"Function `env.seed(seed)` is marked as deprecated and will be removed in the future. \"\n",
            "Epoch #1: 1001it [00:19, 51.77it/s, alpha=0.754, env_step=1000, len=200, loss/actor=21.127, loss/alpha=-0.632, loss/critic1=0.409, loss/critic2=0.456, n/ep=0, n/st=1, rew=-1206.17]                          \n"
          ]
        },
        {
          "name": "stdout",
          "output_type": "stream",
          "text": [
            "Epoch #1: test_reward: -1501.250316 ± 0.000000, best_reward: -1289.147347 ± 0.000000 in #0\n"
          ]
        },
        {
          "name": "stderr",
          "output_type": "stream",
          "text": [
            "Epoch #2: 1001it [00:20, 49.34it/s, alpha=0.569, env_step=2000, len=200, loss/actor=48.470, loss/alpha=-1.087, loss/critic1=0.537, loss/critic2=0.517, n/ep=0, n/st=1, rew=-1371.67]                          \n"
          ]
        },
        {
          "name": "stdout",
          "output_type": "stream",
          "text": [
            "Epoch #2: test_reward: -1046.000853 ± 0.000000, best_reward: -1046.000853 ± 0.000000 in #2\n"
          ]
        },
        {
          "name": "stderr",
          "output_type": "stream",
          "text": [
            "Epoch #3: 1001it [00:20, 49.97it/s, alpha=0.443, env_step=3000, len=200, loss/actor=65.132, loss/alpha=-1.113, loss/critic1=1.620, loss/critic2=1.298, n/ep=0, n/st=1, rew=-1079.76]                          \n"
          ]
        },
        {
          "name": "stdout",
          "output_type": "stream",
          "text": [
            "Epoch #3: test_reward: -132.249759 ± 0.000000, best_reward: -132.249759 ± 0.000000 in #3\n"
          ]
        },
        {
          "name": "stderr",
          "output_type": "stream",
          "text": [
            "Epoch #4: 1001it [00:20, 47.72it/s, alpha=0.353, env_step=4000, len=200, loss/actor=75.162, loss/alpha=-1.169, loss/critic1=2.574, loss/critic2=2.317, n/ep=0, n/st=1, rew=-129.90]                          \n"
          ]
        },
        {
          "name": "stdout",
          "output_type": "stream",
          "text": [
            "Epoch #4: test_reward: -0.898600 ± 0.000000, best_reward: -0.898600 ± 0.000000 in #4\n"
          ]
        },
        {
          "name": "stderr",
          "output_type": "stream",
          "text": [
            "Epoch #5: 1001it [00:20, 49.03it/s, alpha=0.279, env_step=5000, len=200, loss/actor=75.132, loss/alpha=-1.206, loss/critic1=3.535, loss/critic2=3.782, n/ep=0, n/st=1, rew=-247.54]                          \n"
          ]
        },
        {
          "name": "stdout",
          "output_type": "stream",
          "text": [
            "Epoch #5: test_reward: -124.193912 ± 0.000000, best_reward: -0.898600 ± 0.000000 in #4\n"
          ]
        },
        {
          "name": "stderr",
          "output_type": "stream",
          "text": [
            "Epoch #6: 1001it [00:20, 49.95it/s, alpha=0.218, env_step=6000, len=200, loss/actor=73.891, loss/alpha=-1.241, loss/critic1=4.348, loss/critic2=4.736, n/ep=0, n/st=1, rew=-242.92]                          \n"
          ]
        },
        {
          "name": "stdout",
          "output_type": "stream",
          "text": [
            "Epoch #6: test_reward: -128.250016 ± 0.000000, best_reward: -0.898600 ± 0.000000 in #4\n"
          ]
        },
        {
          "name": "stderr",
          "output_type": "stream",
          "text": [
            "Epoch #7: 1001it [00:18, 53.52it/s, alpha=0.171, env_step=7000, len=200, loss/actor=70.619, loss/alpha=-1.281, loss/critic1=4.408, loss/critic2=5.064, n/ep=0, n/st=1, rew=-114.77]                          \n"
          ]
        },
        {
          "name": "stdout",
          "output_type": "stream",
          "text": [
            "Epoch #7: test_reward: -119.933933 ± 0.000000, best_reward: -0.898600 ± 0.000000 in #4\n"
          ]
        },
        {
          "name": "stderr",
          "output_type": "stream",
          "text": [
            "Epoch #8: 1001it [00:17, 57.06it/s, alpha=0.135, env_step=8000, len=200, loss/actor=66.714, loss/alpha=-1.168, loss/critic1=4.895, loss/critic2=5.377, n/ep=0, n/st=1, rew=-114.75]                          \n"
          ]
        },
        {
          "name": "stdout",
          "output_type": "stream",
          "text": [
            "Epoch #8: test_reward: -121.438102 ± 0.000000, best_reward: -0.898600 ± 0.000000 in #4\n"
          ]
        },
        {
          "name": "stderr",
          "output_type": "stream",
          "text": [
            "Epoch #9: 1001it [00:17, 58.56it/s, alpha=0.106, env_step=9000, len=200, loss/actor=59.945, loss/alpha=-1.107, loss/critic1=5.185, loss/critic2=5.906, n/ep=0, n/st=1, rew=-123.95]                          \n"
          ]
        },
        {
          "name": "stdout",
          "output_type": "stream",
          "text": [
            "Epoch #9: test_reward: -238.968498 ± 0.000000, best_reward: -0.898600 ± 0.000000 in #4\n"
          ]
        },
        {
          "name": "stderr",
          "output_type": "stream",
          "text": [
            "Epoch #10: 1001it [00:18, 53.80it/s, alpha=0.083, env_step=10000, len=200, loss/actor=56.190, loss/alpha=-1.129, loss/critic1=5.619, loss/critic2=6.424, n/ep=0, n/st=1, rew=-126.37]                          \n"
          ]
        },
        {
          "name": "stdout",
          "output_type": "stream",
          "text": [
            "Epoch #10: test_reward: -122.420494 ± 0.000000, best_reward: -0.898600 ± 0.000000 in #4\n",
            "rewards: -94.625202 ± 89.356705\n",
            "num episodes: 5\n"
          ]
        },
        {
          "name": "stderr",
          "output_type": "stream",
          "text": [
            "Epoch #1: 1001it [00:17, 57.35it/s, alpha=0.753, env_step=1000, len=200, loss/actor=20.224, loss/alpha=-0.647, loss/critic1=0.541, loss/critic2=0.435, n/ep=0, n/st=1, rew=-1521.62]                          \n"
          ]
        },
        {
          "name": "stdout",
          "output_type": "stream",
          "text": [
            "Epoch #1: test_reward: -1681.237862 ± 0.000000, best_reward: -1566.030731 ± 0.000000 in #0\n"
          ]
        },
        {
          "name": "stderr",
          "output_type": "stream",
          "text": [
            "Epoch #2: 1001it [00:19, 52.64it/s, alpha=0.567, env_step=2000, len=200, loss/actor=47.285, loss/alpha=-1.128, loss/critic1=0.585, loss/critic2=0.531, n/ep=0, n/st=1, rew=-1319.58]                          \n"
          ]
        },
        {
          "name": "stdout",
          "output_type": "stream",
          "text": [
            "Epoch #2: test_reward: -1083.857635 ± 0.000000, best_reward: -1083.857635 ± 0.000000 in #2\n"
          ]
        },
        {
          "name": "stderr",
          "output_type": "stream",
          "text": [
            "Epoch #3: 1001it [00:21, 47.24it/s, alpha=0.441, env_step=3000, len=200, loss/actor=66.915, loss/alpha=-1.157, loss/critic1=1.353, loss/critic2=1.508, n/ep=0, n/st=1, rew=-771.37]\n"
          ]
        },
        {
          "name": "stdout",
          "output_type": "stream",
          "text": [
            "Epoch #3: test_reward: -1398.414760 ± 0.000000, best_reward: -1083.857635 ± 0.000000 in #2\n"
          ]
        },
        {
          "name": "stderr",
          "output_type": "stream",
          "text": [
            "Epoch #4: 1001it [00:19, 52.68it/s, alpha=0.351, env_step=4000, len=200, loss/actor=79.700, loss/alpha=-1.258, loss/critic1=2.391, loss/critic2=2.322, n/ep=0, n/st=1, rew=-1259.44]\n"
          ]
        },
        {
          "name": "stdout",
          "output_type": "stream",
          "text": [
            "Epoch #4: test_reward: -0.340756 ± 0.000000, best_reward: -0.340756 ± 0.000000 in #4\n"
          ]
        },
        {
          "name": "stderr",
          "output_type": "stream",
          "text": [
            "Epoch #5: 1001it [00:17, 56.06it/s, alpha=0.277, env_step=5000, len=200, loss/actor=81.333, loss/alpha=-1.287, loss/critic1=2.860, loss/critic2=3.496, n/ep=0, n/st=1, rew=-230.00]                          \n"
          ]
        },
        {
          "name": "stdout",
          "output_type": "stream",
          "text": [
            "Epoch #5: test_reward: -122.337514 ± 0.000000, best_reward: -0.340756 ± 0.000000 in #4\n"
          ]
        },
        {
          "name": "stderr",
          "output_type": "stream",
          "text": [
            "Epoch #6: 1001it [00:17, 56.63it/s, alpha=0.216, env_step=6000, len=200, loss/actor=81.143, loss/alpha=-1.396, loss/critic1=3.173, loss/critic2=4.187, n/ep=0, n/st=1, rew=-126.17]                          \n"
          ]
        },
        {
          "name": "stdout",
          "output_type": "stream",
          "text": [
            "Epoch #6: test_reward: -242.509458 ± 0.000000, best_reward: -0.340756 ± 0.000000 in #4\n"
          ]
        },
        {
          "name": "stderr",
          "output_type": "stream",
          "text": [
            "Epoch #7: 1001it [00:17, 57.33it/s, alpha=0.169, env_step=7000, len=200, loss/actor=80.231, loss/alpha=-1.315, loss/critic1=3.717, loss/critic2=4.680, n/ep=0, n/st=1, rew=-0.76]\n"
          ]
        },
        {
          "name": "stdout",
          "output_type": "stream",
          "text": [
            "Epoch #7: test_reward: -125.351558 ± 0.000000, best_reward: -0.340756 ± 0.000000 in #4\n"
          ]
        },
        {
          "name": "stderr",
          "output_type": "stream",
          "text": [
            "Epoch #8: 1001it [00:17, 58.71it/s, alpha=0.133, env_step=8000, len=200, loss/actor=76.562, loss/alpha=-1.305, loss/critic1=3.820, loss/critic2=4.945, n/ep=0, n/st=1, rew=-123.36]\n"
          ]
        },
        {
          "name": "stdout",
          "output_type": "stream",
          "text": [
            "Epoch #8: test_reward: -122.350457 ± 0.000000, best_reward: -0.340756 ± 0.000000 in #4\n"
          ]
        },
        {
          "name": "stderr",
          "output_type": "stream",
          "text": [
            "Epoch #9: 1001it [00:17, 58.35it/s, alpha=0.105, env_step=9000, len=200, loss/actor=74.501, loss/alpha=-1.055, loss/critic1=4.410, loss/critic2=5.400, n/ep=0, n/st=1, rew=-234.27]                          \n"
          ]
        },
        {
          "name": "stdout",
          "output_type": "stream",
          "text": [
            "Epoch #9: test_reward: -124.727991 ± 0.000000, best_reward: -0.340756 ± 0.000000 in #4\n"
          ]
        },
        {
          "name": "stderr",
          "output_type": "stream",
          "text": [
            "Epoch #10: 1001it [00:17, 56.29it/s, alpha=0.084, env_step=10000, len=200, loss/actor=69.578, loss/alpha=-0.959, loss/critic1=4.909, loss/critic2=5.592, n/ep=0, n/st=1, rew=-241.27]                          \n"
          ]
        },
        {
          "name": "stdout",
          "output_type": "stream",
          "text": [
            "Epoch #10: test_reward: -128.143515 ± 0.000000, best_reward: -0.340756 ± 0.000000 in #4\n",
            "rewards: -119.426018 ± 106.381241\n",
            "num episodes: 5\n"
          ]
        },
        {
          "name": "stderr",
          "output_type": "stream",
          "text": [
            "Epoch #1: 1001it [00:17, 58.16it/s, alpha=0.754, env_step=1000, len=200, loss/actor=26.887, loss/alpha=-0.638, loss/critic1=0.420, loss/critic2=0.292, n/ep=0, n/st=1, rew=-1541.03]                          \n"
          ]
        },
        {
          "name": "stdout",
          "output_type": "stream",
          "text": [
            "Epoch #1: test_reward: -1712.485515 ± 0.000000, best_reward: -1175.947851 ± 0.000000 in #0\n"
          ]
        },
        {
          "name": "stderr",
          "output_type": "stream",
          "text": [
            "Epoch #2: 1001it [00:17, 56.35it/s, alpha=0.567, env_step=2000, len=200, loss/actor=56.534, loss/alpha=-1.106, loss/critic1=0.463, loss/critic2=0.300, n/ep=0, n/st=1, rew=-1290.26]                          \n"
          ]
        },
        {
          "name": "stdout",
          "output_type": "stream",
          "text": [
            "Epoch #2: test_reward: -1221.141664 ± 0.000000, best_reward: -1175.947851 ± 0.000000 in #0\n"
          ]
        },
        {
          "name": "stderr",
          "output_type": "stream",
          "text": [
            "Epoch #3: 1001it [00:18, 54.83it/s, alpha=0.442, env_step=3000, len=200, loss/actor=78.720, loss/alpha=-1.145, loss/critic1=1.905, loss/critic2=1.038, n/ep=0, n/st=1, rew=-1126.60]\n"
          ]
        },
        {
          "name": "stdout",
          "output_type": "stream",
          "text": [
            "Epoch #3: test_reward: -1150.060214 ± 0.000000, best_reward: -1150.060214 ± 0.000000 in #3\n"
          ]
        },
        {
          "name": "stderr",
          "output_type": "stream",
          "text": [
            "Epoch #4: 1001it [00:18, 54.99it/s, alpha=0.350, env_step=4000, len=200, loss/actor=96.171, loss/alpha=-1.236, loss/critic1=1.759, loss/critic2=1.117, n/ep=0, n/st=1, rew=-912.87]                          \n"
          ]
        },
        {
          "name": "stdout",
          "output_type": "stream",
          "text": [
            "Epoch #4: test_reward: -774.412210 ± 0.000000, best_reward: -774.412210 ± 0.000000 in #4\n"
          ]
        },
        {
          "name": "stderr",
          "output_type": "stream",
          "text": [
            "Epoch #5: 1001it [00:18, 53.34it/s, alpha=0.273, env_step=5000, len=200, loss/actor=112.153, loss/alpha=-1.440, loss/critic1=1.724, loss/critic2=1.165, n/ep=0, n/st=1, rew=-1179.35]                          \n"
          ]
        },
        {
          "name": "stdout",
          "output_type": "stream",
          "text": [
            "Epoch #5: test_reward: -630.715737 ± 0.000000, best_reward: -630.715737 ± 0.000000 in #5\n"
          ]
        },
        {
          "name": "stderr",
          "output_type": "stream",
          "text": [
            "Epoch #6: 1001it [00:20, 49.09it/s, alpha=0.212, env_step=6000, len=200, loss/actor=123.972, loss/alpha=-1.317, loss/critic1=1.606, loss/critic2=1.093, n/ep=0, n/st=1, rew=-131.12]\n"
          ]
        },
        {
          "name": "stdout",
          "output_type": "stream",
          "text": [
            "Epoch #6: test_reward: -128.215428 ± 0.000000, best_reward: -128.215428 ± 0.000000 in #6\n"
          ]
        },
        {
          "name": "stderr",
          "output_type": "stream",
          "text": [
            "Epoch #7: 1001it [00:20, 48.65it/s, alpha=0.169, env_step=7000, len=200, loss/actor=129.064, loss/alpha=-1.156, loss/critic1=1.764, loss/critic2=1.185, n/ep=0, n/st=1, rew=-362.03]                          \n"
          ]
        },
        {
          "name": "stdout",
          "output_type": "stream",
          "text": [
            "Epoch #7: test_reward: -2.232206 ± 0.000000, best_reward: -2.232206 ± 0.000000 in #7\n"
          ]
        },
        {
          "name": "stderr",
          "output_type": "stream",
          "text": [
            "Epoch #8: 1001it [00:21, 46.23it/s, alpha=0.137, env_step=8000, len=200, loss/actor=129.869, loss/alpha=-0.939, loss/critic1=1.828, loss/critic2=1.554, n/ep=0, n/st=1, rew=-256.52]\n"
          ]
        },
        {
          "name": "stdout",
          "output_type": "stream",
          "text": [
            "Epoch #8: test_reward: -0.887036 ± 0.000000, best_reward: -0.887036 ± 0.000000 in #8\n"
          ]
        },
        {
          "name": "stderr",
          "output_type": "stream",
          "text": [
            "Epoch #9: 1001it [00:19, 50.89it/s, alpha=0.112, env_step=9000, len=200, loss/actor=129.008, loss/alpha=-0.827, loss/critic1=2.409, loss/critic2=2.176, n/ep=0, n/st=1, rew=-124.24]                          \n"
          ]
        },
        {
          "name": "stdout",
          "output_type": "stream",
          "text": [
            "Epoch #9: test_reward: -1.899353 ± 0.000000, best_reward: -0.887036 ± 0.000000 in #8\n"
          ]
        },
        {
          "name": "stderr",
          "output_type": "stream",
          "text": [
            "Epoch #10: 1001it [00:19, 51.06it/s, alpha=0.091, env_step=10000, len=200, loss/actor=124.638, loss/alpha=-0.781, loss/critic1=2.833, loss/critic2=2.671, n/ep=0, n/st=1, rew=-0.88]                          \n"
          ]
        },
        {
          "name": "stdout",
          "output_type": "stream",
          "text": [
            "Epoch #10: test_reward: -116.809649 ± 0.000000, best_reward: -0.887036 ± 0.000000 in #8\n",
            "rewards: -165.912937 ± 92.183328\n",
            "num episodes: 5\n"
          ]
        },
        {
          "name": "stderr",
          "output_type": "stream",
          "text": [
            "Epoch #1: 1001it [00:19, 50.59it/s, alpha=0.754, env_step=1000, len=200, loss/actor=31.297, loss/alpha=-0.643, loss/critic1=0.794, loss/critic2=0.344, n/ep=0, n/st=1, rew=-1754.05]                          \n"
          ]
        },
        {
          "name": "stdout",
          "output_type": "stream",
          "text": [
            "Epoch #1: test_reward: -1886.560757 ± 0.000000, best_reward: -1695.938597 ± 0.000000 in #0\n"
          ]
        },
        {
          "name": "stderr",
          "output_type": "stream",
          "text": [
            "Epoch #2: 1001it [00:19, 51.64it/s, alpha=0.565, env_step=2000, len=200, loss/actor=64.112, loss/alpha=-1.177, loss/critic1=0.880, loss/critic2=0.422, n/ep=0, n/st=1, rew=-1441.69]                          \n"
          ]
        },
        {
          "name": "stdout",
          "output_type": "stream",
          "text": [
            "Epoch #2: test_reward: -1464.436015 ± 0.000000, best_reward: -1464.436015 ± 0.000000 in #2\n"
          ]
        },
        {
          "name": "stderr",
          "output_type": "stream",
          "text": [
            "Epoch #3: 1001it [00:19, 50.44it/s, alpha=0.438, env_step=3000, len=200, loss/actor=88.338, loss/alpha=-1.194, loss/critic1=2.396, loss/critic2=0.872, n/ep=0, n/st=1, rew=-1012.81]                          \n"
          ]
        },
        {
          "name": "stdout",
          "output_type": "stream",
          "text": [
            "Epoch #3: test_reward: -654.638227 ± 0.000000, best_reward: -654.638227 ± 0.000000 in #3\n"
          ]
        },
        {
          "name": "stderr",
          "output_type": "stream",
          "text": [
            "Epoch #4: 1001it [00:19, 50.57it/s, alpha=0.351, env_step=4000, len=200, loss/actor=104.838, loss/alpha=-1.169, loss/critic1=9.241, loss/critic2=1.607, n/ep=0, n/st=1, rew=-792.72]                          \n"
          ]
        },
        {
          "name": "stdout",
          "output_type": "stream",
          "text": [
            "Epoch #4: test_reward: -889.769771 ± 0.000000, best_reward: -654.638227 ± 0.000000 in #3\n"
          ]
        },
        {
          "name": "stderr",
          "output_type": "stream",
          "text": [
            "Epoch #5: 1001it [00:19, 50.41it/s, alpha=0.280, env_step=5000, len=200, loss/actor=118.728, loss/alpha=-1.270, loss/critic1=7.120, loss/critic2=1.960, n/ep=0, n/st=1, rew=-1353.94]                          \n"
          ]
        },
        {
          "name": "stdout",
          "output_type": "stream",
          "text": [
            "Epoch #5: test_reward: -1356.569233 ± 0.000000, best_reward: -654.638227 ± 0.000000 in #3\n"
          ]
        },
        {
          "name": "stderr",
          "output_type": "stream",
          "text": [
            "Epoch #6: 1001it [00:19, 50.20it/s, alpha=0.218, env_step=6000, len=200, loss/actor=129.740, loss/alpha=-1.285, loss/critic1=7.056, loss/critic2=1.991, n/ep=0, n/st=1, rew=-366.33]                          \n"
          ]
        },
        {
          "name": "stdout",
          "output_type": "stream",
          "text": [
            "Epoch #6: test_reward: -0.498322 ± 0.000000, best_reward: -0.498322 ± 0.000000 in #6\n"
          ]
        },
        {
          "name": "stderr",
          "output_type": "stream",
          "text": [
            "Epoch #7: 1001it [00:20, 49.95it/s, alpha=0.173, env_step=7000, len=200, loss/actor=133.747, loss/alpha=-1.138, loss/critic1=5.681, loss/critic2=2.021, n/ep=0, n/st=1, rew=-239.42]                          \n"
          ]
        },
        {
          "name": "stdout",
          "output_type": "stream",
          "text": [
            "Epoch #7: test_reward: -125.922683 ± 0.000000, best_reward: -0.498322 ± 0.000000 in #6\n"
          ]
        },
        {
          "name": "stderr",
          "output_type": "stream",
          "text": [
            "Epoch #8: 1001it [00:20, 49.85it/s, alpha=0.142, env_step=8000, len=200, loss/actor=135.110, loss/alpha=-0.762, loss/critic1=5.966, loss/critic2=2.084, n/ep=0, n/st=1, rew=-0.81]                          \n"
          ]
        },
        {
          "name": "stdout",
          "output_type": "stream",
          "text": [
            "Epoch #8: test_reward: -132.098661 ± 0.000000, best_reward: -0.498322 ± 0.000000 in #6\n"
          ]
        },
        {
          "name": "stderr",
          "output_type": "stream",
          "text": [
            "Epoch #9: 1001it [00:21, 46.29it/s, alpha=0.118, env_step=9000, len=200, loss/actor=132.811, loss/alpha=-0.646, loss/critic1=7.854, loss/critic2=2.919, n/ep=0, n/st=1, rew=-239.22]\n"
          ]
        },
        {
          "name": "stdout",
          "output_type": "stream",
          "text": [
            "Epoch #9: test_reward: -126.290021 ± 0.000000, best_reward: -0.498322 ± 0.000000 in #6\n"
          ]
        },
        {
          "name": "stderr",
          "output_type": "stream",
          "text": [
            "Epoch #10: 1001it [00:20, 49.57it/s, alpha=0.100, env_step=10000, len=200, loss/actor=129.366, loss/alpha=-0.477, loss/critic1=9.226, loss/critic2=3.391, n/ep=0, n/st=1, rew=-236.82]\n"
          ]
        },
        {
          "name": "stdout",
          "output_type": "stream",
          "text": [
            "Epoch #10: test_reward: -242.565872 ± 0.000000, best_reward: -0.498322 ± 0.000000 in #6\n",
            "rewards: -168.133855 ± 94.990764\n",
            "num episodes: 5\n"
          ]
        }
      ],
      "source": [
        "active_results = []\n",
        "\n",
        "for seed in range(5):\n",
        "    agent = sac_simple(\n",
        "        'Pendulum-v1',\n",
        "        step_per_epoch=1000,\n",
        "        max_epoch=10,\n",
        "        seed=seed\n",
        "    )\n",
        "\n",
        "    agent.train()\n",
        "\n",
        "    result = agent.test()\n",
        "    active_results.append(result)\n",
        "\n",
        "    print(f\"rewards: {result['rew']:.6f} ± {result['rew_std']:.6f}\")\n",
        "    print(f\"num episodes: {result['n/ep']}\")"
      ]
    },
    {
      "cell_type": "code",
      "execution_count": 5,
      "metadata": {
        "colab": {
          "base_uri": "https://localhost:8080/"
        },
        "id": "LwNTA37pUoEO",
        "outputId": "ad1a58a0-3539-421e-d4bf-d223ce0d4269"
      },
      "outputs": [
        {
          "name": "stdout",
          "output_type": "stream",
          "text": [
            "-99.46480910152941 91.43535666664974\n",
            "-94.6252016092109 89.35670481240048\n",
            "-119.4260175561084 106.38124095227387\n",
            "-165.91293719587853 92.18332791802898\n",
            "-168.1338549757413 94.99076444554642\n"
          ]
        }
      ],
      "source": [
        "for r in active_results:\n",
        "    print(r['rew'], r['rew_std'])"
      ]
    },
    {
      "cell_type": "code",
      "execution_count": null,
      "metadata": {
        "id": "E82LVpfuUoET"
      },
      "outputs": [],
      "source": []
    }
  ],
  "metadata": {
    "colab": {
      "name": "active_vs_passive_benchmark.ipynb",
      "provenance": []
    },
    "interpreter": {
      "hash": "b08d363ebb8492a302c7076da18bf168d910622d9da13f07c6e53914cde27110"
    },
    "kernelspec": {
      "display_name": "Python 3.9.7 ('base')",
      "language": "python",
      "name": "python3"
    },
    "language_info": {
      "codemirror_mode": {
        "name": "ipython",
        "version": 3
      },
      "file_extension": ".py",
      "mimetype": "text/x-python",
      "name": "python",
      "nbconvert_exporter": "python",
      "pygments_lexer": "ipython3",
      "version": "3.9.7"
    },
    "orig_nbformat": 4
  },
  "nbformat": 4,
  "nbformat_minor": 0
}
